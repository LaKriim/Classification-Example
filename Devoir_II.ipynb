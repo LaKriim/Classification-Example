{
  "cells": [
    {
      "cell_type": "markdown",
      "metadata": {
        "id": "KMkDFk-K7JbJ"
      },
      "source": [
        "**Cours :** INF 6243 Techniques d’apprentissage\n",
        "\n",
        "**TP2 – Hiver 2024 :** Classification\n",
        "\n",
        "**Date limite pour remettre votre travail :** 22 mars 2024`\n",
        "\n",
        "**Modalités de travail:**\n",
        "\n",
        "1.  Les TPs se feront individuellement sur Python.\n",
        "2.  La remise des TP doit se faire sur Moodle.\n",
        "3.  Un retard de remise de TP de $n$ journées va causer la perte de $20 n$ points.  \n",
        "\n",
        "\n",
        "**Description des données:**\n",
        "\n",
        "La description originale des données est sur le site : https://archive.ics.uci.edu/dataset/350/default+of+credit+card+clients\n",
        "\n",
        "L’ensemble contient 3000 instances de données de clients et vise à étudier la prédiction du défaut de paiement. Chaque client est décrit sur 23 attributs numétique.  \n",
        "\n",
        "**Implantation demandée**\n",
        "\n",
        "On vous demande de tester la classification supervisée avec les algorithmes suivants :\n",
        "\n",
        "*   KPPV (à 7 voisins)\n",
        "*   Arbre de décision (profondeur maximale 10)\n",
        "*   Classificateur de Bayes\n",
        "*   SVM (version linéaire)\n",
        "*   Réseau de neurones à deux couches cachées\n",
        "* \tForet aléatoire (T=100)\n",
        "\n",
        "\n",
        "**Instructions:**\n",
        "\n",
        "\n",
        "*   Utiliser 80 % des données pour l’entrainement et 20% pour la validation).\n",
        "\n",
        "* Remettre votre devoir dans ce fichier Jupyter, avec une cellule pour chaque algorithme.\n",
        "\n",
        "*   Afficher les métriques suivantes pour la validation de la classification : exactitute, précision, rappel, matrice de confusion.\n",
        "Utiliser les fonctions : **accuracy_score, recall_score, precision_score, confusion_matrix** de  sklearn.metrics\n",
        "\n",
        "*   Il est préférable d’équilibrer les classes Y=0 et Y=1 pour un meilleur entrainement.  Utiliser la fonction **imblearn.over_sampling.RandomOverSampler**\n",
        "\n",
        "* Il est préférable de centrer et standardiser les données.\n",
        "Utiliser la fonction **sklearn.preprocessing.StandardScaler**\n",
        "\n",
        "\n"
      ]
    },
    {
      "cell_type": "code",
      "execution_count": 11,
      "metadata": {
        "id": "GTxiqjcNmbvQ"
      },
      "outputs": [],
      "source": [
        "import numpy as np\n",
        "import matplotlib.pyplot as plt\n",
        "import pandas as pd\n",
        "from sklearn.neighbors import KNeighborsClassifier\n",
        "from sklearn.tree import DecisionTreeClassifier\n",
        "from sklearn.ensemble import RandomForestClassifier\n",
        "from sklearn.naive_bayes import GaussianNB\n",
        "from sklearn.svm import SVC\n",
        "from sklearn.neural_network import MLPClassifier\n",
        "from sklearn.model_selection import train_test_split\n",
        "from sklearn.metrics import accuracy_score, recall_score, precision_score, confusion_matrix\n",
        "from imblearn.over_sampling import RandomOverSampler as ROS # training data oversampling\n",
        "from sklearn.preprocessing import StandardScaler"
      ]
    },
    {
      "cell_type": "code",
      "execution_count": 12,
      "metadata": {
        "colab": {
          "base_uri": "https://localhost:8080/"
        },
        "id": "PJjuX2u41jDj",
        "outputId": "a939f7c6-7bb2-4ae8-b70d-84c3473e44f1"
      },
      "outputs": [
        {
          "output_type": "stream",
          "name": "stdout",
          "text": [
            "<class 'pandas.core.frame.DataFrame'>\n",
            "RangeIndex: 30000 entries, 0 to 29999\n",
            "Data columns (total 25 columns):\n",
            " #   Column                      Non-Null Count  Dtype\n",
            "---  ------                      --------------  -----\n",
            " 0   ID                          30000 non-null  int64\n",
            " 1   LIMIT_BAL                   30000 non-null  int64\n",
            " 2   SEX                         30000 non-null  int64\n",
            " 3   EDUCATION                   30000 non-null  int64\n",
            " 4   MARRIAGE                    30000 non-null  int64\n",
            " 5   AGE                         30000 non-null  int64\n",
            " 6   PAY_0                       30000 non-null  int64\n",
            " 7   PAY_2                       30000 non-null  int64\n",
            " 8   PAY_3                       30000 non-null  int64\n",
            " 9   PAY_4                       30000 non-null  int64\n",
            " 10  PAY_5                       30000 non-null  int64\n",
            " 11  PAY_6                       30000 non-null  int64\n",
            " 12  BILL_AMT1                   30000 non-null  int64\n",
            " 13  BILL_AMT2                   30000 non-null  int64\n",
            " 14  BILL_AMT3                   30000 non-null  int64\n",
            " 15  BILL_AMT4                   30000 non-null  int64\n",
            " 16  BILL_AMT5                   30000 non-null  int64\n",
            " 17  BILL_AMT6                   30000 non-null  int64\n",
            " 18  PAY_AMT1                    30000 non-null  int64\n",
            " 19  PAY_AMT2                    30000 non-null  int64\n",
            " 20  PAY_AMT3                    30000 non-null  int64\n",
            " 21  PAY_AMT4                    30000 non-null  int64\n",
            " 22  PAY_AMT5                    30000 non-null  int64\n",
            " 23  PAY_AMT6                    30000 non-null  int64\n",
            " 24  default payment next month  30000 non-null  int64\n",
            "dtypes: int64(25)\n",
            "memory usage: 5.7 MB\n"
          ]
        }
      ],
      "source": [
        "import pandas as pd\n",
        "path = '/content/default_of_credit_card.xls'\n",
        "data = pd.read_excel(path)\n",
        "X, y = data.iloc[:,1:24].to_numpy(), data.iloc[:,24].to_numpy()\n",
        "data.info()"
      ]
    },
    {
      "cell_type": "code",
      "execution_count": 13,
      "metadata": {
        "id": "rhArC0--LjaW"
      },
      "outputs": [],
      "source": [
        "# diviser les donnees\n",
        "X_train, X_test, y_train, y_test = train_test_split(X, y, test_size=0.2, random_state=42)\n",
        "\n",
        "# équilibrer les classes Y=0 et Y=1\n",
        "oversampler = ROS(random_state=42)\n",
        "X_train_resampled, y_train_resampled = oversampler.fit_resample(X_train, y_train)\n",
        "\n",
        "#standardiser les donnees\n",
        "scaler = StandardScaler()\n",
        "X_train_scaled = scaler.fit_transform(X_train_resampled)\n",
        "X_test_scaled = scaler.transform(X_test)\n"
      ]
    },
    {
      "cell_type": "code",
      "execution_count": 14,
      "metadata": {
        "colab": {
          "base_uri": "https://localhost:8080/"
        },
        "id": "1fZB-SubLv6y",
        "outputId": "d940973f-a1c4-456d-927e-d5327a273a73"
      },
      "outputs": [
        {
          "output_type": "stream",
          "name": "stdout",
          "text": [
            "\n",
            "Métriques pour KPPV (à 7 voisins):\n",
            "Exactitude : 0.6663333333333333\n",
            "Précision : 0.3524625267665953\n",
            "Rappel : 0.6268088347296268\n",
            "Matrice de Confusion:\n",
            "              Predicted True  Predicted False\n",
            "Actual True             3175             1512\n",
            "Actual False             490              823\n"
          ]
        }
      ],
      "source": [
        "\n",
        "# algorithme 1 : KPPV (à 7 voisins)\n",
        "kppv_classifier = KNeighborsClassifier(n_neighbors=7)\n",
        "kppv_classifier.fit(X_train_scaled, y_train_resampled)\n",
        "\n",
        "predictions_kppv = kppv_classifier.predict(X_test_scaled)\n",
        "\n",
        "# calcul des métriques\n",
        "accuracy_kppv = accuracy_score(y_test, predictions_kppv)\n",
        "precision_kppv = precision_score(y_test, predictions_kppv)\n",
        "recall_kppv = recall_score(y_test, predictions_kppv)\n",
        "conf_matrix_kppv = confusion_matrix(y_test, predictions_kppv)\n",
        "\n",
        "conf_matrix_kppv_df = pd.DataFrame(conf_matrix_kppv,index=['Actual True', 'Actual False'],columns=['Predicted True', 'Predicted False'])\n",
        "print(\"\\nMétriques pour KPPV (à 7 voisins):\")\n",
        "print(f\"Exactitude : {accuracy_kppv}\")\n",
        "print(f\"Précision : {precision_kppv}\")\n",
        "print(f\"Rappel : {recall_kppv}\")\n",
        "print(\"Matrice de Confusion:\")\n",
        "print(conf_matrix_kppv_df)\n"
      ]
    },
    {
      "cell_type": "code",
      "execution_count": 15,
      "metadata": {
        "colab": {
          "base_uri": "https://localhost:8080/"
        },
        "id": "IFpeQVnZLvkA",
        "outputId": "9c89aec9-556f-4005-fe82-fa2c7614eb99"
      },
      "outputs": [
        {
          "output_type": "stream",
          "name": "stdout",
          "text": [
            "\n",
            "Métriques pour l'Arbre de décision (profondeur maximale 10):\n",
            "Exactitude : 0.7441666666666666\n",
            "Précision : 0.43874172185430466\n",
            "Rappel : 0.6054836252856055\n",
            "Matrice de Confusion:\n",
            "              Predicted True  Predicted False\n",
            "Actual True             3670             1017\n",
            "Actual False             518              795\n"
          ]
        }
      ],
      "source": [
        "\n",
        "# algorithme 2 : Arbre de décision (profondeur 6)\n",
        "dt_classifier = DecisionTreeClassifier(max_depth=6, random_state=42)\n",
        "dt_classifier.fit(X_train_scaled, y_train_resampled)\n",
        "\n",
        "predictions_dt = dt_classifier.predict(X_test_scaled)\n",
        "\n",
        "# calcul des métriques\n",
        "accuracy_dt = accuracy_score(y_test, predictions_dt)\n",
        "precision_dt = precision_score(y_test, predictions_dt)\n",
        "recall_dt = recall_score(y_test, predictions_dt)\n",
        "conf_matrix_dt = confusion_matrix(y_test, predictions_dt)\n",
        "\n",
        "\n",
        "conf_matrix_dt_df = pd.DataFrame(conf_matrix_dt,index=['Actual True', 'Actual False'],columns=['Predicted True', 'Predicted False'])\n",
        "print(\"\\nMétriques pour l'Arbre de décision (profondeur 6):\")\n",
        "print(f\"Exactitude : {accuracy_dt}\")\n",
        "print(f\"Précision : {precision_dt}\")\n",
        "print(f\"Rappel : {recall_dt}\")\n",
        "print(\"Matrice de Confusion:\")\n",
        "print(conf_matrix_dt_df)\n",
        "\n"
      ]
    },
    {
      "cell_type": "code",
      "execution_count": 16,
      "metadata": {
        "colab": {
          "base_uri": "https://localhost:8080/"
        },
        "id": "YtVnqZ-CLvXF",
        "outputId": "2256017f-9a5f-4be2-be54-fcb61a064d95"
      },
      "outputs": [
        {
          "output_type": "stream",
          "name": "stdout",
          "text": [
            "\n",
            "Métriques pour Random Forest:\n",
            "Exactitude : 0.7656666666666667\n",
            "Précision : 0.47237076648841353\n",
            "Rappel : 0.6054836252856055\n",
            "Matrice de Confusion:\n",
            "              Predicted True  Predicted False\n",
            "Actual True             3799              888\n",
            "Actual False             518              795\n"
          ]
        }
      ],
      "source": [
        "# algorithme 3 : Random Forest\n",
        "rf_classifier = RandomForestClassifier(n_estimators=100, max_depth=6, random_state=42)\n",
        "rf_classifier.fit(X_train_scaled, y_train_resampled)\n",
        "\n",
        "predictions_rf = rf_classifier.predict(X_test_scaled)\n",
        "\n",
        "# calcul des métriques\n",
        "accuracy_rf = accuracy_score(y_test, predictions_rf)\n",
        "precision_rf = precision_score(y_test, predictions_rf)\n",
        "recall_rf = recall_score(y_test, predictions_rf)\n",
        "conf_matrix_rf = confusion_matrix(y_test, predictions_rf)\n",
        "\n",
        "\n",
        "conf_matrix_rf_df = pd.DataFrame(conf_matrix_rf, index=['Actual True', 'Actual False'], columns=['Predicted True', 'Predicted False'])\n",
        "print(\"\\nMétriques pour Random Forest:\")\n",
        "print(f\"Exactitude : {accuracy_rf}\")\n",
        "print(f\"Précision : {precision_rf}\")\n",
        "print(f\"Rappel : {recall_rf}\")\n",
        "print(\"Matrice de Confusion:\")\n",
        "print(conf_matrix_rf_df)\n"
      ]
    },
    {
      "cell_type": "code",
      "execution_count": 17,
      "metadata": {
        "colab": {
          "base_uri": "https://localhost:8080/"
        },
        "id": "Y0SmAcYeL420",
        "outputId": "b39a0d29-cf76-4a47-ac38-7992372c6fc6"
      },
      "outputs": [
        {
          "output_type": "stream",
          "name": "stdout",
          "text": [
            "\n",
            "Métriques pour AdaBoost:\n",
            "Exactitude : 0.755\n",
            "Précision : 0.45577464788732397\n",
            "Rappel : 0.6161462300076161\n",
            "Matrice de Confusion:\n",
            "              Predicted True  Predicted False\n",
            "Actual True             3721              966\n",
            "Actual False             504              809\n"
          ]
        }
      ],
      "source": [
        "from sklearn.ensemble import AdaBoostClassifier\n",
        "\n",
        "# algorithme 4 : AdaBoost\n",
        "adaboost_classifier = AdaBoostClassifier(n_estimators=50, random_state=42)\n",
        "adaboost_classifier.fit(X_train_scaled, y_train_resampled)\n",
        "\n",
        "predictions_adaboost = adaboost_classifier.predict(X_test_scaled)\n",
        "\n",
        "# calcul des métriques\n",
        "accuracy_adaboost = accuracy_score(y_test, predictions_adaboost)\n",
        "precision_adaboost = precision_score(y_test, predictions_adaboost)\n",
        "recall_adaboost = recall_score(y_test, predictions_adaboost)\n",
        "conf_matrix_adaboost = confusion_matrix(y_test, predictions_adaboost)\n",
        "\n",
        "conf_matrix_adaboost_df = pd.DataFrame(\n",
        "    conf_matrix_adaboost,\n",
        "    index=['Actual True', 'Actual False'],\n",
        "    columns=['Predicted True', 'Predicted False']\n",
        ")\n",
        "\n",
        "print(\"\\nMétriques pour AdaBoost:\")\n",
        "print(f\"Exactitude : {accuracy_adaboost}\")\n",
        "print(f\"Précision : {precision_adaboost}\")\n",
        "print(f\"Rappel : {recall_adaboost}\")\n",
        "print(\"Matrice de Confusion:\")\n",
        "print(conf_matrix_adaboost_df)\n"
      ]
    },
    {
      "cell_type": "code",
      "execution_count": 18,
      "metadata": {
        "colab": {
          "base_uri": "https://localhost:8080/"
        },
        "id": "kP3_GeqmL7LF",
        "outputId": "207c8492-ffa7-4c3b-d0e8-56485725c466"
      },
      "outputs": [
        {
          "output_type": "stream",
          "name": "stdout",
          "text": [
            "\n",
            "Métriques pour Naive Bayes (Gaussian):\n",
            "Exactitude : 0.46016666666666667\n",
            "Précision : 0.26917545541706617\n",
            "Rappel : 0.8552932216298553\n",
            "Matrice de Confusion:\n",
            "[[1638 3049]\n",
            " [ 190 1123]]\n"
          ]
        }
      ],
      "source": [
        "\n",
        "# algorithme 5 : Naive Bayes (Gaussian)\n",
        "nb_classifier = GaussianNB()\n",
        "nb_classifier.fit(X_train_scaled, y_train_resampled)\n",
        "\n",
        "predictions_nb = nb_classifier.predict(X_test_scaled)\n",
        "\n",
        "# calcul des métriques\n",
        "accuracy_nb = accuracy_score(y_test, predictions_nb)\n",
        "precision_nb = precision_score(y_test, predictions_nb)\n",
        "recall_nb = recall_score(y_test, predictions_nb)\n",
        "conf_matrix_nb = confusion_matrix(y_test, predictions_nb)\n",
        "\n",
        "\n",
        "conf_matrix_naive_bayes_df = pd.DataFrame(\n",
        "    conf_matrix_nb,\n",
        "    index=['Actual True', 'Actual False'],\n",
        "    columns=['Predicted True', 'Predicted False']\n",
        ")\n",
        "\n",
        "print(\"\\nMétriques pour Naive Bayes (Gaussian):\")\n",
        "print(f\"Exactitude : {accuracy_nb}\")\n",
        "print(f\"Précision : {precision_nb}\")\n",
        "print(f\"Rappel : {recall_nb}\")\n",
        "print(\"Matrice de Confusion:\")\n",
        "print(conf_matrix_naive_bayes_df)\n"
      ]
    },
    {
      "cell_type": "code",
      "execution_count": null,
      "metadata": {
        "id": "sqwQrCZlMAY3"
      },
      "outputs": [],
      "source": [
        "# algorithme 6 : SVM linéaire\n",
        "svm_classifier = SVC(kernel='linear', random_state=42)\n",
        "svm_classifier.fit(X_train_scaled, y_train_resampled)\n",
        "\n",
        "predictions_svm = svm_classifier.predict(X_test_scaled)\n",
        "\n",
        "# calcul des métriques\n",
        "accuracy_svm = accuracy_score(y_test, predictions_svm)\n",
        "precision_svm = precision_score(y_test, predictions_svm)\n",
        "recall_svm = recall_score(y_test, predictions_svm)\n",
        "conf_matrix_svm = confusion_matrix(y_test, predictions_svm)\n",
        "conf_matrix_svm_df = pd.DataFrame(\n",
        "    conf_matrix_svm,\n",
        "    index=['Actual True', 'Actual False'],\n",
        "    columns=['Predicted True', 'Predicted False']\n",
        ")\n",
        "\n",
        "print(\"\\nMétriques pour SVM (noyau linéaire):\")\n",
        "print(f\"Exactitude : {accuracy_svm}\")\n",
        "print(f\"Précision : {precision_svm}\")\n",
        "print(f\"Rappel : {recall_svm}\")\n",
        "print(\"Matrice de Confusion:\")\n",
        "print(conf_matrix_svm_df)\n"
      ]
    },
    {
      "cell_type": "code",
      "execution_count": null,
      "metadata": {
        "id": "WdzHeQBHMCm5"
      },
      "outputs": [],
      "source": [
        "# algorithme 7 : Réseau de neurones à deux couches cachées\n",
        "#mlp_classifier = MLPClassifier(hidden_layer_sizes=(32, 1),learning_rate_init=0.001, max_iter=1000, random_state=42)\n",
        "\n",
        "mlp_classifier = MLPClassifier(\n",
        "    hidden_layer_sizes=(32, 2),  #\n",
        "    activation='relu',  # fonction d'activation pour la premiere couche cachée\n",
        "    learning_rate_init=0.001,\n",
        "    max_iter=1000,\n",
        "    random_state=42\n",
        ")\n",
        "\n",
        "# fonction d'activation pour la derniere couche\n",
        "mlp_classifier.out_activation_ = 'logistic'\n",
        "\n",
        "mlp_classifier.fit(X_train_scaled, y_train_resampled)\n",
        "\n",
        "predictions_mlp = mlp_classifier.predict(X_test_scaled)\n",
        "\n",
        "accuracy_mlp = accuracy_score(y_test, predictions_mlp)\n",
        "precision_mlp = precision_score(y_test, predictions_mlp)\n",
        "recall_mlp = recall_score(y_test, predictions_mlp)\n",
        "conf_matrix_mlp = confusion_matrix(y_test, predictions_mlp)\n",
        "\n",
        "conf_matrix_mlp_df = pd.DataFrame(\n",
        "    conf_matrix_mlp,\n",
        "    index=['Actual True', 'Actual False'],\n",
        "    columns=['Predicted True', 'Predicted False']\n",
        ")\n",
        "\n",
        "print(\"\\nMétriques pour le Réseau de neurones à deux couches cachées:\")\n",
        "print(f\"Exactitude : {accuracy_mlp}\")\n",
        "print(f\"Précision : {precision_mlp}\")\n",
        "print(f\"Rappel : {recall_mlp}\")\n",
        "print(\"Matrice de Confusion:\")\n",
        "print(conf_matrix_mlp_df)\n"
      ]
    },
    {
      "cell_type": "code",
      "execution_count": null,
      "metadata": {
        "id": "V1edeZ01MgNF"
      },
      "outputs": [],
      "source": []
    }
  ],
  "metadata": {
    "colab": {
      "provenance": []
    },
    "kernelspec": {
      "display_name": "Python 3",
      "name": "python3"
    },
    "language_info": {
      "name": "python"
    }
  },
  "nbformat": 4,
  "nbformat_minor": 0
}